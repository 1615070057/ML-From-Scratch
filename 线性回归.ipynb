{
 "cells": [
  {
   "cell_type": "markdown",
   "metadata": {},
   "source": [
    "# 线性回归"
   ]
  },
  {
   "cell_type": "markdown",
   "metadata": {},
   "source": [
    "## 线性回归是一种最简单的机器学习模型，试图学习一个通过属性的线性组合来进行预测的函数，对于线性组合来说，有两种求解方式\n",
    "\n",
    "1. 最小二乘法\n",
    "2. 梯度下降"
   ]
  },
  {
   "cell_type": "code",
   "execution_count": 1,
   "metadata": {
    "collapsed": true
   },
   "outputs": [],
   "source": [
    "import numpy as np\n",
    "import pandas as pd\n",
    "import matplotlib.pyplot as plt\n",
    "from sklearn.datasets import make_regression\n",
    "\n",
    "%matplotlib inline"
   ]
  },
  {
   "cell_type": "markdown",
   "metadata": {},
   "source": [
    "### 构造数据集"
   ]
  },
  {
   "cell_type": "code",
   "execution_count": 5,
   "metadata": {},
   "outputs": [
    {
     "data": {
      "text/plain": [
       "<matplotlib.collections.PathCollection at 0x10f0bd240>"
      ]
     },
     "execution_count": 5,
     "metadata": {},
     "output_type": "execute_result"
    },
    {
     "data": {
      "image/png": "[encoded data removed]",
      "text/plain": [
       "<matplotlib.figure.Figure at 0x10eef77f0>"
      ]
     },
     "metadata": {},
     "output_type": "display_data"
    }
   ],
   "source": [
    "X,y = make_regression(n_samples=100,noise=20,n_features=1)\n",
    "plt.scatter(X,y)"
   ]
  },
  {
   "cell_type": "markdown",
   "metadata": {},
   "source": [
    "## 使用最小二乘法来求解"
   ]
  },
  {
   "cell_type": "markdown",
   "metadata": {},
   "source": [
    "#### 最小二乘法是一种求解释一种基于均方误差来求解的一种方法，在线性回归中，最小二乘法就是试图找到一条直线，使所有的样本到直线上的欧式距离最小\n",
    "\n",
    "$Ax = b$\n",
    "\n",
    "$A^TAx = A^Tb$\n",
    "\n",
    "则\n",
    "\n",
    "$x = (A^TA)^{-1}A^Tb$"
   ]
  },
  {
   "cell_type": "markdown",
   "metadata": {},
   "source": [
    "### 在这里，x就是我们所要求得的参数"
   ]
  },
  {
   "cell_type": "code",
   "execution_count": 46,
   "metadata": {},
   "outputs": [],
   "source": [
    "ones = np.ones(X.shape[0])\n",
    "A = np.insert(X, 0, 1, axis=1)  # 特征"
   ]
  },
  {
   "cell_type": "code",
   "execution_count": 47,
   "metadata": {},
   "outputs": [],
   "source": [
    "b = y.reshape(-1,1)"
   ]
  },
  {
   "cell_type": "markdown",
   "metadata": {},
   "source": [
    "### 使用最小二乘法求解\n",
    "\n",
    "$Ax=b$"
   ]
  },
  {
   "cell_type": "code",
   "execution_count": 48,
   "metadata": {},
   "outputs": [],
   "source": [
    "x = np.linalg.inv(A.T @ A) @ A.T @ b"
   ]
  },
  {
   "cell_type": "markdown",
   "metadata": {},
   "source": [
    "### 那么X为"
   ]
  },
  {
   "cell_type": "code",
   "execution_count": 49,
   "metadata": {},
   "outputs": [
    {
     "data": {
      "text/plain": [
       "array([[  1.86962816],\n",
       "       [ 52.04612077]])"
      ]
     },
     "execution_count": 49,
     "metadata": {},
     "output_type": "execute_result"
    }
   ],
   "source": [
    "x"
   ]
  },
  {
   "cell_type": "markdown",
   "metadata": {},
   "source": [
    "### 也就是我们需要求解的参数，我们将该方程画图出来"
   ]
  },
  {
   "cell_type": "code",
   "execution_count": 50,
   "metadata": {},
   "outputs": [
    {
     "data": {
      "text/plain": [
       "[<matplotlib.lines.Line2D at 0x1104cafd0>]"
      ]
     },
     "execution_count": 50,
     "metadata": {},
     "output_type": "execute_result"
    },
    {
     "data": {
      "image/png": "[encoded data removed]",
      "text/plain": [
       "<matplotlib.figure.Figure at 0x1102c6e48>"
      ]
     },
     "metadata": {},
     "output_type": "display_data"
    }
   ],
   "source": [
    "plt.scatter(X,y)\n",
    "\n",
    "y_pred = A @ x\n",
    "\n",
    "plt.plot(X,y_pred,'r--')"
   ]
  },
  {
   "cell_type": "markdown",
   "metadata": {},
   "source": [
    "### 最小二乘法是非常常用的算法来求解 线性回归问题"
   ]
  },
  {
   "cell_type": "markdown",
   "metadata": {},
   "source": [
    "# 使用梯度下降来求解"
   ]
  },
  {
   "cell_type": "code",
   "execution_count": 128,
   "metadata": {
    "collapsed": true
   },
   "outputs": [],
   "source": [
    "class LinearRegression(object):\n",
    "    def __init__(self):\n",
    "        pass\n",
    "    def fit(self,X,y):\n",
    "        X = np.insert(X, 0, 1, axis=1)\n",
    "        y = y.reshape(-1,1)\n",
    "        self.w = np.random.randn(X.shape[1],1)\n",
    "        \n",
    "        for _ in range(50):\n",
    "        \n",
    "            y_pred = X @ self.w  # 100 * 1\n",
    "            \n",
    "            \n",
    "            mse = np.mean(0.5*(y_pred-y)**2)\n",
    "\n",
    "            grad_w = X.T @ (y_pred - y)\n",
    "            \n",
    "            self.w -= 0.01 * grad_w\n",
    "            \n",
    "            print(_,mse,self.w[0][0],self.w[1][0])\n",
    "            \n",
    "    def predict(self,X):\n",
    "        X = np.insert(X, 0, 1, axis=1)\n",
    "        return X @ self.w"
   ]
  },
  {
   "cell_type": "code",
   "execution_count": 129,
   "metadata": {},
   "outputs": [],
   "source": [
    "lr = LinearRegression()"
   ]
  },
  {
   "cell_type": "code",
   "execution_count": 130,
   "metadata": {},
   "outputs": [
    {
     "name": "stdout",
     "output_type": "stream",
     "text": [
      "0 1796.37498548 1.03848759583 60.5678621484\n",
      "1 206.502750609 2.00319580077 50.6596463103\n",
      "2 165.012107823 1.84789690336 52.271672086\n",
      "3 163.914069364 1.87316339226 52.0094280955\n",
      "4 163.885010042 1.86905304553 52.0520899281\n",
      "5 163.884240995 1.86972171643 52.0451497045\n",
      "6 163.884220642 1.8696129371 52.0462787395\n",
      "7 163.884220103 1.86963063331 52.0460950682\n",
      "8 163.884220089 1.86962775449 52.0461249478\n",
      "9 163.884220089 1.86962822282 52.046120087\n",
      "10 163.884220089 1.86962814663 52.0461208777\n",
      "11 163.884220089 1.86962815903 52.0461207491\n",
      "12 163.884220089 1.86962815701 52.04612077\n",
      "13 163.884220089 1.86962815734 52.0461207666\n",
      "14 163.884220089 1.86962815728 52.0461207672\n",
      "15 163.884220089 1.86962815729 52.0461207671\n",
      "16 163.884220089 1.86962815729 52.0461207671\n",
      "17 163.884220089 1.86962815729 52.0461207671\n",
      "18 163.884220089 1.86962815729 52.0461207671\n",
      "19 163.884220089 1.86962815729 52.0461207671\n",
      "20 163.884220089 1.86962815729 52.0461207671\n",
      "21 163.884220089 1.86962815729 52.0461207671\n",
      "22 163.884220089 1.86962815729 52.0461207671\n",
      "23 163.884220089 1.86962815729 52.0461207671\n",
      "24 163.884220089 1.86962815729 52.0461207671\n",
      "25 163.884220089 1.86962815729 52.0461207671\n",
      "26 163.884220089 1.86962815729 52.0461207671\n",
      "27 163.884220089 1.86962815729 52.0461207671\n",
      "28 163.884220089 1.86962815729 52.0461207671\n",
      "29 163.884220089 1.86962815729 52.0461207671\n",
      "30 163.884220089 1.86962815729 52.0461207671\n",
      "31 163.884220089 1.86962815729 52.0461207671\n",
      "32 163.884220089 1.86962815729 52.0461207671\n",
      "33 163.884220089 1.86962815729 52.0461207671\n",
      "34 163.884220089 1.86962815729 52.0461207671\n",
      "35 163.884220089 1.86962815729 52.0461207671\n",
      "36 163.884220089 1.86962815729 52.0461207671\n",
      "37 163.884220089 1.86962815729 52.0461207671\n",
      "38 163.884220089 1.86962815729 52.0461207671\n",
      "39 163.884220089 1.86962815729 52.0461207671\n",
      "40 163.884220089 1.86962815729 52.0461207671\n",
      "41 163.884220089 1.86962815729 52.0461207671\n",
      "42 163.884220089 1.86962815729 52.0461207671\n",
      "43 163.884220089 1.86962815729 52.0461207671\n",
      "44 163.884220089 1.86962815729 52.0461207671\n",
      "45 163.884220089 1.86962815729 52.0461207671\n",
      "46 163.884220089 1.86962815729 52.0461207671\n",
      "47 163.884220089 1.86962815729 52.0461207671\n",
      "48 163.884220089 1.86962815729 52.0461207671\n",
      "49 163.884220089 1.86962815729 52.0461207671\n"
     ]
    }
   ],
   "source": [
    "lr.fit(X,y)"
   ]
  },
  {
   "cell_type": "code",
   "execution_count": 120,
   "metadata": {
    "collapsed": true
   },
   "outputs": [],
   "source": [
    "y_pred = lr.predict(X)"
   ]
  },
  {
   "cell_type": "code",
   "execution_count": 121,
   "metadata": {},
   "outputs": [
    {
     "data": {
      "text/plain": [
       "[<matplotlib.lines.Line2D at 0x110675320>]"
      ]
     },
     "execution_count": 121,
     "metadata": {},
     "output_type": "execute_result"
    },
    {
     "data": {
      "image/png": "[encoded data removed]",
      "text/plain": [
       "<matplotlib.figure.Figure at 0x110675cf8>"
      ]
     },
     "metadata": {},
     "output_type": "display_data"
    }
   ],
   "source": [
    "plt.scatter(X,y)\n",
    "\n",
    "plt.plot(X,y_pred,'r--')"
   ]
  },
  {
   "cell_type": "markdown",
   "metadata": {},
   "source": [
    "## 可以发现，使用梯度下降算法得到了与最小二乘法差不多的结果。"
   ]
  },
  {
   "cell_type": "markdown",
   "metadata": {},
   "source": [
    "## 在周老师的书中，还提出了最优解的闭式解\n",
    "\n",
    "* 参见西瓜书 54页"
   ]
  },
  {
   "cell_type": "code",
   "execution_count": 146,
   "metadata": {
    "collapsed": true
   },
   "outputs": [],
   "source": [
    "x_mean = np.mean(X)\n",
    "Y = y.reshape(-1,1)"
   ]
  },
  {
   "cell_type": "code",
   "execution_count": 149,
   "metadata": {},
   "outputs": [],
   "source": [
    "w = np.sum(Y*(X-x_mean))/(np.sum(X**2)-1./X.shape[0]*(np.sum(X))**2)"
   ]
  },
  {
   "cell_type": "code",
   "execution_count": 158,
   "metadata": {},
   "outputs": [],
   "source": [
    "b = np.sum(Y-w*X)/X.shape[0]"
   ]
  },
  {
   "cell_type": "code",
   "execution_count": 160,
   "metadata": {},
   "outputs": [
    {
     "data": {
      "text/plain": [
       "(1.869628157291537, 52.046120767103673)"
      ]
     },
     "execution_count": 160,
     "metadata": {},
     "output_type": "execute_result"
    }
   ],
   "source": [
    "b,w"
   ]
  },
  {
   "cell_type": "markdown",
   "metadata": {},
   "source": [
    "## 可见，这三种方式都是求线性规划的方法。"
   ]
  },
  {
   "cell_type": "markdown",
   "metadata": {},
   "source": [
    "## 总结\n",
    "\n",
    "* 使用最小二乘法来求解 $A^TAx=A^Tb$\n",
    "\n",
    "* 使用梯度下降算法\n",
    "\n",
    "* 使用闭包解\n",
    "\n",
    "## 参考\n",
    "\n",
    "* 54、55页周志华老师的西瓜书"
   ]
  }
 ],
 "metadata": {
  "kernelspec": {
   "display_name": "Python 3",
   "language": "python",
   "name": "python3"
  },
  "language_info": {
   "codemirror_mode": {
    "name": "ipython",
    "version": 3
   },
   "file_extension": ".py",
   "mimetype": "text/x-python",
   "name": "python",
   "nbconvert_exporter": "python",
   "pygments_lexer": "ipython3",
   "version": "3.6.1"
  }
 },
 "nbformat": 4,
 "nbformat_minor": 2
}
